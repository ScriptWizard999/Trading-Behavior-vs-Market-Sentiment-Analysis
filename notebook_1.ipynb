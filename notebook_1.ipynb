{
 "cells": [
  {
   "cell_type": "markdown",
   "id": "80d2d31d",
   "metadata": {},
   "source": [
    "# Trading Behavior vs Market Sentiment Analysis\n",
    "\n",
    "## Step 1: Data Loading\n",
    "We start by loading the two provided datasets:\n",
    "- **Historical Trader Data**, which contains trade-by-trade records, including price, trade size, and profit/loss. The second is the \n",
    "- **Bitcoin Market Sentiment Dataset**, (Fear & Greed Index), which provides a daily sentiment score and classification."
   ]
  },
  {
   "cell_type": "markdown",
   "id": "b7a327a0",
   "metadata": {},
   "source": [
    "`These CSVs are loaded into pandas DataFrames to allow for easier inspection and manipulation. We then perform a quick check to ensure the data has loaded correctly, inspecting the shape, columns, and checking for any missing values.`"
   ]
  },
  {
   "cell_type": "code",
   "execution_count": 103,
   "id": "802d3235",
   "metadata": {},
   "outputs": [],
   "source": [
    "import pandas as pd\n",
    "import numpy as np"
   ]
  },
  {
   "cell_type": "code",
   "execution_count": 104,
   "id": "08e4cddd",
   "metadata": {},
   "outputs": [],
   "source": [
    "historical_data = pd.read_csv(\"CSV_files/historical_data.csv\")\n",
    "fear_greed_index_data = pd.read_csv(\"CSV_files/fear_greed_index.csv\")\n"
   ]
  },
  {
   "cell_type": "code",
   "execution_count": 105,
   "id": "799f76ee",
   "metadata": {},
   "outputs": [
    {
     "name": "stdout",
     "output_type": "stream",
     "text": [
      "=== Historical Data ===\n",
      "(211224, 16)\n",
      "['Account', 'Coin', 'Execution Price', 'Size Tokens', 'Size USD', 'Side', 'Timestamp IST', 'Start Position', 'Direction', 'Closed PnL', 'Transaction Hash', 'Order ID', 'Crossed', 'Fee', 'Trade ID', 'Timestamp']\n",
      "                                      Account  Coin  Execution Price  \\\n",
      "0  0xae5eacaf9c6b9111fd53034a602c192a04e082ed  @107           7.9769   \n",
      "1  0xae5eacaf9c6b9111fd53034a602c192a04e082ed  @107           7.9800   \n",
      "2  0xae5eacaf9c6b9111fd53034a602c192a04e082ed  @107           7.9855   \n",
      "\n",
      "   Size Tokens  Size USD Side     Timestamp IST  Start Position Direction  \\\n",
      "0       986.87   7872.16  BUY  02-12-2024 22:50        0.000000       Buy   \n",
      "1        16.00    127.68  BUY  02-12-2024 22:50      986.524596       Buy   \n",
      "2       144.09   1150.63  BUY  02-12-2024 22:50     1002.518996       Buy   \n",
      "\n",
      "   Closed PnL                                   Transaction Hash     Order ID  \\\n",
      "0         0.0  0xec09451986a1874e3a980418412fcd0201f500c95bac...  52017706630   \n",
      "1         0.0  0xec09451986a1874e3a980418412fcd0201f500c95bac...  52017706630   \n",
      "2         0.0  0xec09451986a1874e3a980418412fcd0201f500c95bac...  52017706630   \n",
      "\n",
      "   Crossed       Fee      Trade ID     Timestamp  \n",
      "0     True  0.345404  8.950000e+14  1.730000e+12  \n",
      "1     True  0.005600  4.430000e+14  1.730000e+12  \n",
      "2     True  0.050431  6.600000e+14  1.730000e+12  \n",
      "Account             0\n",
      "Coin                0\n",
      "Execution Price     0\n",
      "Size Tokens         0\n",
      "Size USD            0\n",
      "Side                0\n",
      "Timestamp IST       0\n",
      "Start Position      0\n",
      "Direction           0\n",
      "Closed PnL          0\n",
      "Transaction Hash    0\n",
      "Order ID            0\n",
      "Crossed             0\n",
      "Fee                 0\n",
      "Trade ID            0\n",
      "Timestamp           0\n",
      "dtype: int64\n"
     ]
    }
   ],
   "source": [
    "print(\"=== Historical Data ===\")\n",
    "print(historical_data.shape)\n",
    "print(historical_data.columns.tolist())\n",
    "print(historical_data.head(3))\n",
    "print(historical_data.isnull().sum())\n",
    "\n"
   ]
  },
  {
   "cell_type": "code",
   "execution_count": 106,
   "id": "c2465421",
   "metadata": {},
   "outputs": [
    {
     "name": "stdout",
     "output_type": "stream",
     "text": [
      "\n",
      "=== Fear And Greed Index ===\n",
      "(2644, 4)\n",
      "['timestamp', 'value', 'classification', 'date']\n",
      "    timestamp  value classification        date\n",
      "0  1517463000     30           Fear  2018-02-01\n",
      "1  1517549400     15   Extreme Fear  2018-02-02\n",
      "2  1517635800     40           Fear  2018-02-03\n",
      "timestamp         0\n",
      "value             0\n",
      "classification    0\n",
      "date              0\n",
      "dtype: int64\n"
     ]
    }
   ],
   "source": [
    "print(\"\\n=== Fear And Greed Index ===\")\n",
    "print(fear_greed_index_data.shape)\n",
    "print(fear_greed_index_data.columns.tolist())\n",
    "print(fear_greed_index_data.head(3))\n",
    "print(fear_greed_index_data.isnull().sum())"
   ]
  },
  {
   "cell_type": "markdown",
   "id": "a90c1003",
   "metadata": {},
   "source": [
    "## Step 2: Time Column Transformation & Cleaning\n",
    "The historical data includes two time-related fields:\n",
    "- **Timestamp** → stored as numeric epoch time (milliseconds since 1970, UTC).\n",
    "- **Timestamp IST** → stored as human-readable date-time in Indian Standard Time.\n",
    "\n",
    "To align these different time formats for analysis, we'll transform the **Timestamp** column from the historical data into a clean, daily **Date** column based on the **UTC timestamp**, which is more reliable for consistent analysis. We'll drop the redundant **Timestamp IST** column to avoid any confusion. This ensures both datasets are ready to be joined on a common Date column.\n",
    "\n",
    "- Convert the **Timestamp** into a proper datetime format (UTC).  \n",
    "- Derive a **Date** column (day only, no hours/minutes).  \n",
    "- Drop the confusing `Timestamp IST` column to keep things clean.  \n",
    "\n",
    "Result: each trade now has a clear execution time (`Timestamp`) and a clean daily bucket (`Date`)."
   ]
  },
  {
   "cell_type": "code",
   "execution_count": 107,
   "id": "9d33cc27",
   "metadata": {},
   "outputs": [
    {
     "data": {
      "text/html": [
       "<div>\n",
       "<style scoped>\n",
       "    .dataframe tbody tr th:only-of-type {\n",
       "        vertical-align: middle;\n",
       "    }\n",
       "\n",
       "    .dataframe tbody tr th {\n",
       "        vertical-align: top;\n",
       "    }\n",
       "\n",
       "    .dataframe thead th {\n",
       "        text-align: right;\n",
       "    }\n",
       "</style>\n",
       "<table border=\"1\" class=\"dataframe\">\n",
       "  <thead>\n",
       "    <tr style=\"text-align: right;\">\n",
       "      <th></th>\n",
       "      <th>Account</th>\n",
       "      <th>Coin</th>\n",
       "      <th>Execution Price</th>\n",
       "      <th>Size Tokens</th>\n",
       "      <th>Size USD</th>\n",
       "      <th>Side</th>\n",
       "      <th>Timestamp IST</th>\n",
       "      <th>Start Position</th>\n",
       "      <th>Direction</th>\n",
       "      <th>Closed PnL</th>\n",
       "      <th>Transaction Hash</th>\n",
       "      <th>Order ID</th>\n",
       "      <th>Crossed</th>\n",
       "      <th>Fee</th>\n",
       "      <th>Trade ID</th>\n",
       "      <th>Timestamp</th>\n",
       "    </tr>\n",
       "  </thead>\n",
       "  <tbody>\n",
       "    <tr>\n",
       "      <th>0</th>\n",
       "      <td>0xae5eacaf9c6b9111fd53034a602c192a04e082ed</td>\n",
       "      <td>@107</td>\n",
       "      <td>7.9769</td>\n",
       "      <td>986.87</td>\n",
       "      <td>7872.16</td>\n",
       "      <td>BUY</td>\n",
       "      <td>02-12-2024 22:50</td>\n",
       "      <td>0.000000</td>\n",
       "      <td>Buy</td>\n",
       "      <td>0.0</td>\n",
       "      <td>0xec09451986a1874e3a980418412fcd0201f500c95bac...</td>\n",
       "      <td>52017706630</td>\n",
       "      <td>True</td>\n",
       "      <td>0.345404</td>\n",
       "      <td>8.950000e+14</td>\n",
       "      <td>1.730000e+12</td>\n",
       "    </tr>\n",
       "    <tr>\n",
       "      <th>1</th>\n",
       "      <td>0xae5eacaf9c6b9111fd53034a602c192a04e082ed</td>\n",
       "      <td>@107</td>\n",
       "      <td>7.9800</td>\n",
       "      <td>16.00</td>\n",
       "      <td>127.68</td>\n",
       "      <td>BUY</td>\n",
       "      <td>02-12-2024 22:50</td>\n",
       "      <td>986.524596</td>\n",
       "      <td>Buy</td>\n",
       "      <td>0.0</td>\n",
       "      <td>0xec09451986a1874e3a980418412fcd0201f500c95bac...</td>\n",
       "      <td>52017706630</td>\n",
       "      <td>True</td>\n",
       "      <td>0.005600</td>\n",
       "      <td>4.430000e+14</td>\n",
       "      <td>1.730000e+12</td>\n",
       "    </tr>\n",
       "    <tr>\n",
       "      <th>2</th>\n",
       "      <td>0xae5eacaf9c6b9111fd53034a602c192a04e082ed</td>\n",
       "      <td>@107</td>\n",
       "      <td>7.9855</td>\n",
       "      <td>144.09</td>\n",
       "      <td>1150.63</td>\n",
       "      <td>BUY</td>\n",
       "      <td>02-12-2024 22:50</td>\n",
       "      <td>1002.518996</td>\n",
       "      <td>Buy</td>\n",
       "      <td>0.0</td>\n",
       "      <td>0xec09451986a1874e3a980418412fcd0201f500c95bac...</td>\n",
       "      <td>52017706630</td>\n",
       "      <td>True</td>\n",
       "      <td>0.050431</td>\n",
       "      <td>6.600000e+14</td>\n",
       "      <td>1.730000e+12</td>\n",
       "    </tr>\n",
       "    <tr>\n",
       "      <th>3</th>\n",
       "      <td>0xae5eacaf9c6b9111fd53034a602c192a04e082ed</td>\n",
       "      <td>@107</td>\n",
       "      <td>7.9874</td>\n",
       "      <td>142.98</td>\n",
       "      <td>1142.04</td>\n",
       "      <td>BUY</td>\n",
       "      <td>02-12-2024 22:50</td>\n",
       "      <td>1146.558564</td>\n",
       "      <td>Buy</td>\n",
       "      <td>0.0</td>\n",
       "      <td>0xec09451986a1874e3a980418412fcd0201f500c95bac...</td>\n",
       "      <td>52017706630</td>\n",
       "      <td>True</td>\n",
       "      <td>0.050043</td>\n",
       "      <td>1.080000e+15</td>\n",
       "      <td>1.730000e+12</td>\n",
       "    </tr>\n",
       "    <tr>\n",
       "      <th>4</th>\n",
       "      <td>0xae5eacaf9c6b9111fd53034a602c192a04e082ed</td>\n",
       "      <td>@107</td>\n",
       "      <td>7.9894</td>\n",
       "      <td>8.73</td>\n",
       "      <td>69.75</td>\n",
       "      <td>BUY</td>\n",
       "      <td>02-12-2024 22:50</td>\n",
       "      <td>1289.488521</td>\n",
       "      <td>Buy</td>\n",
       "      <td>0.0</td>\n",
       "      <td>0xec09451986a1874e3a980418412fcd0201f500c95bac...</td>\n",
       "      <td>52017706630</td>\n",
       "      <td>True</td>\n",
       "      <td>0.003055</td>\n",
       "      <td>1.050000e+15</td>\n",
       "      <td>1.730000e+12</td>\n",
       "    </tr>\n",
       "  </tbody>\n",
       "</table>\n",
       "</div>"
      ],
      "text/plain": [
       "                                      Account  Coin  Execution Price  \\\n",
       "0  0xae5eacaf9c6b9111fd53034a602c192a04e082ed  @107           7.9769   \n",
       "1  0xae5eacaf9c6b9111fd53034a602c192a04e082ed  @107           7.9800   \n",
       "2  0xae5eacaf9c6b9111fd53034a602c192a04e082ed  @107           7.9855   \n",
       "3  0xae5eacaf9c6b9111fd53034a602c192a04e082ed  @107           7.9874   \n",
       "4  0xae5eacaf9c6b9111fd53034a602c192a04e082ed  @107           7.9894   \n",
       "\n",
       "   Size Tokens  Size USD Side     Timestamp IST  Start Position Direction  \\\n",
       "0       986.87   7872.16  BUY  02-12-2024 22:50        0.000000       Buy   \n",
       "1        16.00    127.68  BUY  02-12-2024 22:50      986.524596       Buy   \n",
       "2       144.09   1150.63  BUY  02-12-2024 22:50     1002.518996       Buy   \n",
       "3       142.98   1142.04  BUY  02-12-2024 22:50     1146.558564       Buy   \n",
       "4         8.73     69.75  BUY  02-12-2024 22:50     1289.488521       Buy   \n",
       "\n",
       "   Closed PnL                                   Transaction Hash     Order ID  \\\n",
       "0         0.0  0xec09451986a1874e3a980418412fcd0201f500c95bac...  52017706630   \n",
       "1         0.0  0xec09451986a1874e3a980418412fcd0201f500c95bac...  52017706630   \n",
       "2         0.0  0xec09451986a1874e3a980418412fcd0201f500c95bac...  52017706630   \n",
       "3         0.0  0xec09451986a1874e3a980418412fcd0201f500c95bac...  52017706630   \n",
       "4         0.0  0xec09451986a1874e3a980418412fcd0201f500c95bac...  52017706630   \n",
       "\n",
       "   Crossed       Fee      Trade ID     Timestamp  \n",
       "0     True  0.345404  8.950000e+14  1.730000e+12  \n",
       "1     True  0.005600  4.430000e+14  1.730000e+12  \n",
       "2     True  0.050431  6.600000e+14  1.730000e+12  \n",
       "3     True  0.050043  1.080000e+15  1.730000e+12  \n",
       "4     True  0.003055  1.050000e+15  1.730000e+12  "
      ]
     },
     "execution_count": 107,
     "metadata": {},
     "output_type": "execute_result"
    }
   ],
   "source": [
    "hist = historical_data.copy()\n",
    "hist.head()"
   ]
  },
  {
   "cell_type": "code",
   "execution_count": 108,
   "id": "19792e67",
   "metadata": {},
   "outputs": [],
   "source": [
    "hist['Timestamp'] = pd.to_datetime(hist['Timestamp'], unit='ms', utc=True)"
   ]
  },
  {
   "cell_type": "code",
   "execution_count": 109,
   "id": "c63aa912",
   "metadata": {},
   "outputs": [
    {
     "name": "stdout",
     "output_type": "stream",
     "text": [
      "                  Timestamp       Timestamp_IST        Date\n",
      "0 2024-10-27 03:33:20+00:00 2024-12-02 22:50:00  2024-10-27\n",
      "1 2024-10-27 03:33:20+00:00 2024-12-02 22:50:00  2024-10-27\n",
      "2 2024-10-27 03:33:20+00:00 2024-12-02 22:50:00  2024-10-27\n",
      "3 2024-10-27 03:33:20+00:00 2024-12-02 22:50:00  2024-10-27\n",
      "4 2024-10-27 03:33:20+00:00 2024-12-02 22:50:00  2024-10-27\n"
     ]
    }
   ],
   "source": [
    "hist['Timestamp_IST'] = pd.to_datetime(hist['Timestamp IST'], format = \"%d-%m-%Y %H:%M\")\n",
    "hist['Date'] = hist['Timestamp'].dt.date\n",
    "print(hist[['Timestamp', 'Timestamp_IST', 'Date']].head())"
   ]
  },
  {
   "cell_type": "code",
   "execution_count": 110,
   "id": "74e8762a",
   "metadata": {},
   "outputs": [
    {
     "name": "stdout",
     "output_type": "stream",
     "text": [
      "Account                          object\n",
      "Coin                             object\n",
      "Execution Price                 float64\n",
      "Size Tokens                     float64\n",
      "Size USD                        float64\n",
      "Side                             object\n",
      "Start Position                  float64\n",
      "Direction                        object\n",
      "Closed PnL                      float64\n",
      "Transaction Hash                 object\n",
      "Order ID                          int64\n",
      "Crossed                            bool\n",
      "Fee                             float64\n",
      "Trade ID                        float64\n",
      "Timestamp           datetime64[ns, UTC]\n",
      "Date                     datetime64[ns]\n",
      "dtype: object\n",
      "                  Timestamp       Date\n",
      "0 2024-10-27 03:33:20+00:00 2024-10-27\n",
      "1 2024-10-27 03:33:20+00:00 2024-10-27\n",
      "2 2024-10-27 03:33:20+00:00 2024-10-27\n",
      "3 2024-10-27 03:33:20+00:00 2024-10-27\n",
      "4 2024-10-27 03:33:20+00:00 2024-10-27\n"
     ]
    }
   ],
   "source": [
    "hist['Date'] = pd.to_datetime(hist['Timestamp']).dt.date\n",
    "hist = hist.drop(columns=['Timestamp IST', 'Timestamp_IST'])\n",
    "hist['Date'] = pd.to_datetime(hist['Date'])\n",
    "print(hist.dtypes)\n",
    "print(hist[['Timestamp','Date']].head())"
   ]
  },
  {
   "cell_type": "code",
   "execution_count": 111,
   "id": "79386b3f",
   "metadata": {},
   "outputs": [
    {
     "data": {
      "text/html": [
       "<div>\n",
       "<style scoped>\n",
       "    .dataframe tbody tr th:only-of-type {\n",
       "        vertical-align: middle;\n",
       "    }\n",
       "\n",
       "    .dataframe tbody tr th {\n",
       "        vertical-align: top;\n",
       "    }\n",
       "\n",
       "    .dataframe thead th {\n",
       "        text-align: right;\n",
       "    }\n",
       "</style>\n",
       "<table border=\"1\" class=\"dataframe\">\n",
       "  <thead>\n",
       "    <tr style=\"text-align: right;\">\n",
       "      <th></th>\n",
       "      <th>Account</th>\n",
       "      <th>Coin</th>\n",
       "      <th>Execution Price</th>\n",
       "      <th>Size Tokens</th>\n",
       "      <th>Size USD</th>\n",
       "      <th>Side</th>\n",
       "      <th>Start Position</th>\n",
       "      <th>Direction</th>\n",
       "      <th>Closed PnL</th>\n",
       "      <th>Transaction Hash</th>\n",
       "      <th>Order ID</th>\n",
       "      <th>Crossed</th>\n",
       "      <th>Fee</th>\n",
       "      <th>Trade ID</th>\n",
       "      <th>Timestamp</th>\n",
       "      <th>Date</th>\n",
       "    </tr>\n",
       "  </thead>\n",
       "  <tbody>\n",
       "    <tr>\n",
       "      <th>0</th>\n",
       "      <td>0xae5eacaf9c6b9111fd53034a602c192a04e082ed</td>\n",
       "      <td>@107</td>\n",
       "      <td>7.9769</td>\n",
       "      <td>986.87</td>\n",
       "      <td>7872.16</td>\n",
       "      <td>BUY</td>\n",
       "      <td>0.000000</td>\n",
       "      <td>Buy</td>\n",
       "      <td>0.0</td>\n",
       "      <td>0xec09451986a1874e3a980418412fcd0201f500c95bac...</td>\n",
       "      <td>52017706630</td>\n",
       "      <td>True</td>\n",
       "      <td>0.345404</td>\n",
       "      <td>8.950000e+14</td>\n",
       "      <td>2024-10-27 03:33:20+00:00</td>\n",
       "      <td>2024-10-27</td>\n",
       "    </tr>\n",
       "    <tr>\n",
       "      <th>1</th>\n",
       "      <td>0xae5eacaf9c6b9111fd53034a602c192a04e082ed</td>\n",
       "      <td>@107</td>\n",
       "      <td>7.9800</td>\n",
       "      <td>16.00</td>\n",
       "      <td>127.68</td>\n",
       "      <td>BUY</td>\n",
       "      <td>986.524596</td>\n",
       "      <td>Buy</td>\n",
       "      <td>0.0</td>\n",
       "      <td>0xec09451986a1874e3a980418412fcd0201f500c95bac...</td>\n",
       "      <td>52017706630</td>\n",
       "      <td>True</td>\n",
       "      <td>0.005600</td>\n",
       "      <td>4.430000e+14</td>\n",
       "      <td>2024-10-27 03:33:20+00:00</td>\n",
       "      <td>2024-10-27</td>\n",
       "    </tr>\n",
       "    <tr>\n",
       "      <th>2</th>\n",
       "      <td>0xae5eacaf9c6b9111fd53034a602c192a04e082ed</td>\n",
       "      <td>@107</td>\n",
       "      <td>7.9855</td>\n",
       "      <td>144.09</td>\n",
       "      <td>1150.63</td>\n",
       "      <td>BUY</td>\n",
       "      <td>1002.518996</td>\n",
       "      <td>Buy</td>\n",
       "      <td>0.0</td>\n",
       "      <td>0xec09451986a1874e3a980418412fcd0201f500c95bac...</td>\n",
       "      <td>52017706630</td>\n",
       "      <td>True</td>\n",
       "      <td>0.050431</td>\n",
       "      <td>6.600000e+14</td>\n",
       "      <td>2024-10-27 03:33:20+00:00</td>\n",
       "      <td>2024-10-27</td>\n",
       "    </tr>\n",
       "    <tr>\n",
       "      <th>3</th>\n",
       "      <td>0xae5eacaf9c6b9111fd53034a602c192a04e082ed</td>\n",
       "      <td>@107</td>\n",
       "      <td>7.9874</td>\n",
       "      <td>142.98</td>\n",
       "      <td>1142.04</td>\n",
       "      <td>BUY</td>\n",
       "      <td>1146.558564</td>\n",
       "      <td>Buy</td>\n",
       "      <td>0.0</td>\n",
       "      <td>0xec09451986a1874e3a980418412fcd0201f500c95bac...</td>\n",
       "      <td>52017706630</td>\n",
       "      <td>True</td>\n",
       "      <td>0.050043</td>\n",
       "      <td>1.080000e+15</td>\n",
       "      <td>2024-10-27 03:33:20+00:00</td>\n",
       "      <td>2024-10-27</td>\n",
       "    </tr>\n",
       "    <tr>\n",
       "      <th>4</th>\n",
       "      <td>0xae5eacaf9c6b9111fd53034a602c192a04e082ed</td>\n",
       "      <td>@107</td>\n",
       "      <td>7.9894</td>\n",
       "      <td>8.73</td>\n",
       "      <td>69.75</td>\n",
       "      <td>BUY</td>\n",
       "      <td>1289.488521</td>\n",
       "      <td>Buy</td>\n",
       "      <td>0.0</td>\n",
       "      <td>0xec09451986a1874e3a980418412fcd0201f500c95bac...</td>\n",
       "      <td>52017706630</td>\n",
       "      <td>True</td>\n",
       "      <td>0.003055</td>\n",
       "      <td>1.050000e+15</td>\n",
       "      <td>2024-10-27 03:33:20+00:00</td>\n",
       "      <td>2024-10-27</td>\n",
       "    </tr>\n",
       "  </tbody>\n",
       "</table>\n",
       "</div>"
      ],
      "text/plain": [
       "                                      Account  Coin  Execution Price  \\\n",
       "0  0xae5eacaf9c6b9111fd53034a602c192a04e082ed  @107           7.9769   \n",
       "1  0xae5eacaf9c6b9111fd53034a602c192a04e082ed  @107           7.9800   \n",
       "2  0xae5eacaf9c6b9111fd53034a602c192a04e082ed  @107           7.9855   \n",
       "3  0xae5eacaf9c6b9111fd53034a602c192a04e082ed  @107           7.9874   \n",
       "4  0xae5eacaf9c6b9111fd53034a602c192a04e082ed  @107           7.9894   \n",
       "\n",
       "   Size Tokens  Size USD Side  Start Position Direction  Closed PnL  \\\n",
       "0       986.87   7872.16  BUY        0.000000       Buy         0.0   \n",
       "1        16.00    127.68  BUY      986.524596       Buy         0.0   \n",
       "2       144.09   1150.63  BUY     1002.518996       Buy         0.0   \n",
       "3       142.98   1142.04  BUY     1146.558564       Buy         0.0   \n",
       "4         8.73     69.75  BUY     1289.488521       Buy         0.0   \n",
       "\n",
       "                                    Transaction Hash     Order ID  Crossed  \\\n",
       "0  0xec09451986a1874e3a980418412fcd0201f500c95bac...  52017706630     True   \n",
       "1  0xec09451986a1874e3a980418412fcd0201f500c95bac...  52017706630     True   \n",
       "2  0xec09451986a1874e3a980418412fcd0201f500c95bac...  52017706630     True   \n",
       "3  0xec09451986a1874e3a980418412fcd0201f500c95bac...  52017706630     True   \n",
       "4  0xec09451986a1874e3a980418412fcd0201f500c95bac...  52017706630     True   \n",
       "\n",
       "        Fee      Trade ID                 Timestamp       Date  \n",
       "0  0.345404  8.950000e+14 2024-10-27 03:33:20+00:00 2024-10-27  \n",
       "1  0.005600  4.430000e+14 2024-10-27 03:33:20+00:00 2024-10-27  \n",
       "2  0.050431  6.600000e+14 2024-10-27 03:33:20+00:00 2024-10-27  \n",
       "3  0.050043  1.080000e+15 2024-10-27 03:33:20+00:00 2024-10-27  \n",
       "4  0.003055  1.050000e+15 2024-10-27 03:33:20+00:00 2024-10-27  "
      ]
     },
     "execution_count": 111,
     "metadata": {},
     "output_type": "execute_result"
    }
   ],
   "source": [
    "hist.head()"
   ]
  },
  {
   "cell_type": "code",
   "execution_count": 112,
   "id": "5a85d224",
   "metadata": {},
   "outputs": [
    {
     "name": "stdout",
     "output_type": "stream",
     "text": [
      "Unique trading dates: <DatetimeArray>\n",
      "['2024-10-27 00:00:00', '2025-02-19 00:00:00', '2025-06-15 00:00:00',\n",
      " '2024-03-09 00:00:00', '2024-07-03 00:00:00', '2023-11-14 00:00:00',\n",
      " '2023-03-28 00:00:00']\n",
      "Length: 7, dtype: datetime64[ns]\n",
      "Number of unique trading days: 7\n",
      "Range: 2023-03-28 00:00:00 to 2025-06-15 00:00:00\n"
     ]
    }
   ],
   "source": [
    "# unique dates\n",
    "unique_dates = hist['Date'].unique()\n",
    "print(\"Unique trading dates:\", unique_dates)\n",
    "\n",
    "# number of unique dates\n",
    "print(\"Number of unique trading days:\", len(unique_dates))\n",
    "\n",
    "# first and last trading day\n",
    "print(\"Range:\", hist['Date'].min(), \"to\", hist['Date'].max())\n"
   ]
  },
  {
   "cell_type": "markdown",
   "id": "92f111d0",
   "metadata": {},
   "source": [
    "## Step 3: Daily Aggregation of Trading Behavior\n",
    "The main objective of this project is to analyze how trading behavior aligns with daily market sentiment. To do this, we need to convert the granular, trade-by-trade records into daily summaries that can be merged with the daily sentiment data.  \n",
    "\n",
    "For each date, we calculate: "
   ]
  },
  {
   "cell_type": "markdown",
   "id": "2064da07",
   "metadata": {},
   "source": [
    "- **Daily Profitability (`daily_pnl`)**  \n",
    "  The sum of `Closed PnL` for all trades that day. A positive value means     traders, on average, made money, while a negative value means they lost money.\n",
    "\n",
    "- **Daily Volume (`daily_volume_usd`)**  \n",
    "  The total dollar value of all trades executed that day. This metric measures the overall level of trading activity.\n",
    "\n",
    "- **Number of Trades (`daily_trades`)**  \n",
    "  A count of all trades that occurred on a given day, indicating market busyness.\n",
    "\n",
    "- **Average Fee (`avg_fee`)**  \n",
    "  The mean transaction fee paid per trade.\n",
    "\n",
    "This aggregation reduces thousands of trade rows into a single row per day, making it possible to merge with the daily sentiment dataset."
   ]
  },
  {
   "cell_type": "code",
   "execution_count": 113,
   "id": "907a5514",
   "metadata": {},
   "outputs": [
    {
     "name": "stdout",
     "output_type": "stream",
     "text": [
      "        Date     daily_pnl  daily_volume_usd  daily_trades   avg_fee\n",
      "0 2023-03-28  0.000000e+00      4.770000e+02             3  0.000000\n",
      "1 2023-11-14  1.555034e+02      1.155543e+07          1045  2.674230\n",
      "2 2024-03-09  1.769655e+05      3.940677e+07          6962  0.978567\n",
      "3 2024-07-03  1.587424e+05      2.184323e+07          7141  1.224461\n",
      "4 2024-10-27  3.189461e+06      1.039478e+08         35241  0.611205\n"
     ]
    }
   ],
   "source": [
    "daily_stats = (\n",
    "    hist.groupby('Date')\n",
    "    .agg(\n",
    "        daily_pnl = ('Closed PnL', 'sum'),\n",
    "        daily_volume_usd = ('Size USD', 'sum'),\n",
    "        daily_trades = ('Account', 'count'),\n",
    "        avg_fee = ('Fee', 'mean')\n",
    "    )\n",
    "    .reset_index()\n",
    ")\n",
    "\n",
    "print(daily_stats.head())"
   ]
  },
  {
   "cell_type": "markdown",
   "id": "f967deb6",
   "metadata": {},
   "source": [
    "## Step 4: Merging Datasets\n",
    "\n",
    "\n",
    "With both the trading behavior and market sentiment data aggregated to a daily level, we can now merge the two tables. This creates a unified dataset where each row contains both the trading activity metrics and the market mood for that specific day.\n",
    "\n",
    "We first used an inner join to combine the datasets. This is a common practice to initially focus only on the days where we have complete data from both sources. This initial merged dataset revealed that we had only 6 overlapping days."
   ]
  },
  {
   "cell_type": "code",
   "execution_count": 114,
   "id": "cf401ae8",
   "metadata": {},
   "outputs": [
    {
     "name": "stdout",
     "output_type": "stream",
     "text": [
      "        Date     daily_pnl  daily_volume_usd  daily_trades   avg_fee  value  \\\n",
      "0 2023-03-28  0.000000e+00      4.770000e+02             3  0.000000     59   \n",
      "1 2023-11-14  1.555034e+02      1.155543e+07          1045  2.674230     69   \n",
      "2 2024-03-09  1.769655e+05      3.940677e+07          6962  0.978567     84   \n",
      "3 2024-07-03  1.587424e+05      2.184323e+07          7141  1.224461     50   \n",
      "4 2024-10-27  3.189461e+06      1.039478e+08         35241  0.611205     74   \n",
      "\n",
      "  classification  \n",
      "0          Greed  \n",
      "1          Greed  \n",
      "2  Extreme Greed  \n",
      "3        Neutral  \n",
      "4          Greed  \n"
     ]
    }
   ],
   "source": [
    "fear_greed_index_data['date'] = pd.to_datetime(fear_greed_index_data['date'])\n",
    "merged = pd.merge(\n",
    "    daily_stats,\n",
    "    fear_greed_index_data[['date', 'value', 'classification']],\n",
    "    left_on= 'Date',\n",
    "    right_on='date',\n",
    "    how = 'inner'\n",
    ")\n",
    "merged = merged.drop(columns=['date'])\n",
    "print(merged.head())"
   ]
  },
  {
   "cell_type": "code",
   "execution_count": 115,
   "id": "dc408fda",
   "metadata": {},
   "outputs": [
    {
     "data": {
      "text/html": [
       "<div>\n",
       "<style scoped>\n",
       "    .dataframe tbody tr th:only-of-type {\n",
       "        vertical-align: middle;\n",
       "    }\n",
       "\n",
       "    .dataframe tbody tr th {\n",
       "        vertical-align: top;\n",
       "    }\n",
       "\n",
       "    .dataframe thead th {\n",
       "        text-align: right;\n",
       "    }\n",
       "</style>\n",
       "<table border=\"1\" class=\"dataframe\">\n",
       "  <thead>\n",
       "    <tr style=\"text-align: right;\">\n",
       "      <th></th>\n",
       "      <th>Date</th>\n",
       "      <th>daily_pnl</th>\n",
       "      <th>daily_volume_usd</th>\n",
       "      <th>daily_trades</th>\n",
       "      <th>avg_fee</th>\n",
       "      <th>value</th>\n",
       "      <th>classification</th>\n",
       "    </tr>\n",
       "  </thead>\n",
       "  <tbody>\n",
       "    <tr>\n",
       "      <th>0</th>\n",
       "      <td>2023-03-28</td>\n",
       "      <td>0.000000e+00</td>\n",
       "      <td>4.770000e+02</td>\n",
       "      <td>3</td>\n",
       "      <td>0.000000</td>\n",
       "      <td>59</td>\n",
       "      <td>Greed</td>\n",
       "    </tr>\n",
       "    <tr>\n",
       "      <th>1</th>\n",
       "      <td>2023-11-14</td>\n",
       "      <td>1.555034e+02</td>\n",
       "      <td>1.155543e+07</td>\n",
       "      <td>1045</td>\n",
       "      <td>2.674230</td>\n",
       "      <td>69</td>\n",
       "      <td>Greed</td>\n",
       "    </tr>\n",
       "    <tr>\n",
       "      <th>2</th>\n",
       "      <td>2024-03-09</td>\n",
       "      <td>1.769655e+05</td>\n",
       "      <td>3.940677e+07</td>\n",
       "      <td>6962</td>\n",
       "      <td>0.978567</td>\n",
       "      <td>84</td>\n",
       "      <td>Extreme Greed</td>\n",
       "    </tr>\n",
       "    <tr>\n",
       "      <th>3</th>\n",
       "      <td>2024-07-03</td>\n",
       "      <td>1.587424e+05</td>\n",
       "      <td>2.184323e+07</td>\n",
       "      <td>7141</td>\n",
       "      <td>1.224461</td>\n",
       "      <td>50</td>\n",
       "      <td>Neutral</td>\n",
       "    </tr>\n",
       "    <tr>\n",
       "      <th>4</th>\n",
       "      <td>2024-10-27</td>\n",
       "      <td>3.189461e+06</td>\n",
       "      <td>1.039478e+08</td>\n",
       "      <td>35241</td>\n",
       "      <td>0.611205</td>\n",
       "      <td>74</td>\n",
       "      <td>Greed</td>\n",
       "    </tr>\n",
       "    <tr>\n",
       "      <th>5</th>\n",
       "      <td>2025-02-19</td>\n",
       "      <td>6.699925e+06</td>\n",
       "      <td>7.041585e+08</td>\n",
       "      <td>133871</td>\n",
       "      <td>1.083267</td>\n",
       "      <td>44</td>\n",
       "      <td>Fear</td>\n",
       "    </tr>\n",
       "  </tbody>\n",
       "</table>\n",
       "</div>"
      ],
      "text/plain": [
       "        Date     daily_pnl  daily_volume_usd  daily_trades   avg_fee  value  \\\n",
       "0 2023-03-28  0.000000e+00      4.770000e+02             3  0.000000     59   \n",
       "1 2023-11-14  1.555034e+02      1.155543e+07          1045  2.674230     69   \n",
       "2 2024-03-09  1.769655e+05      3.940677e+07          6962  0.978567     84   \n",
       "3 2024-07-03  1.587424e+05      2.184323e+07          7141  1.224461     50   \n",
       "4 2024-10-27  3.189461e+06      1.039478e+08         35241  0.611205     74   \n",
       "5 2025-02-19  6.699925e+06      7.041585e+08        133871  1.083267     44   \n",
       "\n",
       "  classification  \n",
       "0          Greed  \n",
       "1          Greed  \n",
       "2  Extreme Greed  \n",
       "3        Neutral  \n",
       "4          Greed  \n",
       "5           Fear  "
      ]
     },
     "execution_count": 115,
     "metadata": {},
     "output_type": "execute_result"
    }
   ],
   "source": [
    "merged"
   ]
  },
  {
   "cell_type": "markdown",
   "id": "971abff2",
   "metadata": {},
   "source": [
    "## Step 5: Exploratory Data Analysis (EDA)\n",
    "\n",
    "Now we can use our merged dataset to explore the relationship between trading behavior and market sentiment. The primary goal is to find patterns that suggest how traders behave under different market moods (Fear vs. Greed).\n",
    "\n",
    "`The plots below help to visualize these relationships:`\n",
    "\n"
   ]
  },
  {
   "cell_type": "code",
   "execution_count": 116,
   "id": "c15f3b3d",
   "metadata": {},
   "outputs": [
    {
     "data": {
      "text/html": [
       "<div>\n",
       "<style scoped>\n",
       "    .dataframe tbody tr th:only-of-type {\n",
       "        vertical-align: middle;\n",
       "    }\n",
       "\n",
       "    .dataframe tbody tr th {\n",
       "        vertical-align: top;\n",
       "    }\n",
       "\n",
       "    .dataframe thead th {\n",
       "        text-align: right;\n",
       "    }\n",
       "</style>\n",
       "<table border=\"1\" class=\"dataframe\">\n",
       "  <thead>\n",
       "    <tr style=\"text-align: right;\">\n",
       "      <th></th>\n",
       "      <th>Date</th>\n",
       "      <th>daily_pnl</th>\n",
       "      <th>daily_volume_usd</th>\n",
       "      <th>daily_trades</th>\n",
       "      <th>avg_fee</th>\n",
       "      <th>value</th>\n",
       "      <th>classification</th>\n",
       "    </tr>\n",
       "  </thead>\n",
       "  <tbody>\n",
       "    <tr>\n",
       "      <th>0</th>\n",
       "      <td>2023-03-28</td>\n",
       "      <td>0.000000e+00</td>\n",
       "      <td>4.770000e+02</td>\n",
       "      <td>3</td>\n",
       "      <td>0.000000</td>\n",
       "      <td>59</td>\n",
       "      <td>Greed</td>\n",
       "    </tr>\n",
       "    <tr>\n",
       "      <th>1</th>\n",
       "      <td>2023-11-14</td>\n",
       "      <td>1.555034e+02</td>\n",
       "      <td>1.155543e+07</td>\n",
       "      <td>1045</td>\n",
       "      <td>2.674230</td>\n",
       "      <td>69</td>\n",
       "      <td>Greed</td>\n",
       "    </tr>\n",
       "    <tr>\n",
       "      <th>2</th>\n",
       "      <td>2024-03-09</td>\n",
       "      <td>1.769655e+05</td>\n",
       "      <td>3.940677e+07</td>\n",
       "      <td>6962</td>\n",
       "      <td>0.978567</td>\n",
       "      <td>84</td>\n",
       "      <td>Extreme Greed</td>\n",
       "    </tr>\n",
       "    <tr>\n",
       "      <th>3</th>\n",
       "      <td>2024-07-03</td>\n",
       "      <td>1.587424e+05</td>\n",
       "      <td>2.184323e+07</td>\n",
       "      <td>7141</td>\n",
       "      <td>1.224461</td>\n",
       "      <td>50</td>\n",
       "      <td>Neutral</td>\n",
       "    </tr>\n",
       "    <tr>\n",
       "      <th>4</th>\n",
       "      <td>2024-10-27</td>\n",
       "      <td>3.189461e+06</td>\n",
       "      <td>1.039478e+08</td>\n",
       "      <td>35241</td>\n",
       "      <td>0.611205</td>\n",
       "      <td>74</td>\n",
       "      <td>Greed</td>\n",
       "    </tr>\n",
       "    <tr>\n",
       "      <th>5</th>\n",
       "      <td>2025-02-19</td>\n",
       "      <td>6.699925e+06</td>\n",
       "      <td>7.041585e+08</td>\n",
       "      <td>133871</td>\n",
       "      <td>1.083267</td>\n",
       "      <td>44</td>\n",
       "      <td>Fear</td>\n",
       "    </tr>\n",
       "  </tbody>\n",
       "</table>\n",
       "</div>"
      ],
      "text/plain": [
       "        Date     daily_pnl  daily_volume_usd  daily_trades   avg_fee  value  \\\n",
       "0 2023-03-28  0.000000e+00      4.770000e+02             3  0.000000     59   \n",
       "1 2023-11-14  1.555034e+02      1.155543e+07          1045  2.674230     69   \n",
       "2 2024-03-09  1.769655e+05      3.940677e+07          6962  0.978567     84   \n",
       "3 2024-07-03  1.587424e+05      2.184323e+07          7141  1.224461     50   \n",
       "4 2024-10-27  3.189461e+06      1.039478e+08         35241  0.611205     74   \n",
       "5 2025-02-19  6.699925e+06      7.041585e+08        133871  1.083267     44   \n",
       "\n",
       "  classification  \n",
       "0          Greed  \n",
       "1          Greed  \n",
       "2  Extreme Greed  \n",
       "3        Neutral  \n",
       "4          Greed  \n",
       "5           Fear  "
      ]
     },
     "execution_count": 116,
     "metadata": {},
     "output_type": "execute_result"
    }
   ],
   "source": [
    "merged"
   ]
  },
  {
   "cell_type": "markdown",
   "id": "6c7e0a07",
   "metadata": {},
   "source": [
    "### **Correlation Heatmap:** \n",
    "The heatmap provides a numerical view of the relationships. It shows a moderate negative correlation between the sentiment value and trading activity metrics `(daily_pnl, daily_volume_usd, daily_trades)`, reinforcing the conclusion that activity decreases as the market becomes more greedy."
   ]
  },
  {
   "cell_type": "code",
   "execution_count": 117,
   "id": "43855ab9",
   "metadata": {},
   "outputs": [
    {
     "data": {
      "image/png": "[encoded data removed]",
      "text/plain": [
       "<Figure size 1000x600 with 2 Axes>"
      ]
     },
     "metadata": {},
     "output_type": "display_data"
    }
   ],
   "source": [
    "import seaborn as sns\n",
    "\n",
    "import matplotlib.pyplot as plt\n",
    "\n",
    "plt.figure(figsize=(10, 6))\n",
    "sns.heatmap(\n",
    "    merged[['daily_pnl', 'daily_volume_usd', 'daily_trades', 'avg_fee', 'value']].corr(),\n",
    "    annot=True, cmap='coolwarm', fmt=\".2f\"\n",
    ")\n",
    "plt.title(\"Correlation Heatmap: Trading Stats & Sentiment Value\")\n",
    "plt.show()"
   ]
  },
  {
   "cell_type": "markdown",
   "id": "9c82d1a3",
   "metadata": {},
   "source": [
    "- **Positive Correlation:** The high positive correlation between `daily_pnl`, `daily_volume_usd`, and `daily_trades` (all values > 0.8) indicates that these three metrics move together almost perfectly in your data. In simple terms, on days with a lot of trades, there is also a lot of money changing hands, and this leads to a higher total PnL.\n",
    "\n",
    "- **Negative Correlation:** The most significant finding is the **moderate negative correlation** between `value` (the numeric sentiment score) and all three trading activity metrics.\n",
    "\n",
    "- `value` vs. `daily_pnl`: -0.45\n",
    "- `value` vs. `daily_volume_usd`: -0.57\n",
    "- `value` vs. `daily_trades`: -0.55\n",
    "\n",
    "This confirms the inverse relationship: **as the market becomes greedier (higher `value`), trading activity and profitability tend to decrease.** Conversely, when the market is **fearful (lower `value`),** these metrics tend to increase.\n",
    "\n"
   ]
  },
  {
   "cell_type": "markdown",
   "id": "46e3752e",
   "metadata": {},
   "source": [
    "### **Overall Observation**: \n",
    "The heatmap reinforces the idea of a **contrarian signal**. The trading community in this sample appears to be most active and profitable when market sentiment is fearful, and less so when sentiment is greedy."
   ]
  },
  {
   "cell_type": "markdown",
   "id": "8cf1cef5",
   "metadata": {},
   "source": [
    "### **Bar Plots:** \n",
    "We created bar plots comparing `daily_pnl, daily_volume_usd, and daily_trades` across the different sentiment classifications (`Fear, Greed, Extreme Greed, Neutral`). The results show a clear trend: **Fear days correlate with the highest trading activity,** a surprising finding since one might expect greed to drive more volume."
   ]
  },
  {
   "cell_type": "code",
   "execution_count": 131,
   "id": "9825f93e",
   "metadata": {},
   "outputs": [
    {
     "data": {
      "image/png": "[encoded data removed]",
      "text/plain": [
       "<Figure size 640x480 with 1 Axes>"
      ]
     },
     "metadata": {},
     "output_type": "display_data"
    }
   ],
   "source": [
    "sns.barplot(x='classification', y='daily_pnl', data=merged)\n",
    "plt.title(\"Daily_pnl vs Classification Bar Plot\")\n",
    "plt.show()"
   ]
  },
  {
   "cell_type": "markdown",
   "id": "76f50561",
   "metadata": {},
   "source": [
    "The bar plot for `daily_pnl` shows that the **Fear** classification has a significantly taller bar than any other category. This suggests that the highest average daily profits in my dataset occurred on a day when market sentiment was \"Fear\". The other categories (`Greed, Extreme Greed, Neutral`) have much smaller average daily profits in comparison."
   ]
  },
  {
   "cell_type": "code",
   "execution_count": 132,
   "id": "38b2b87d",
   "metadata": {},
   "outputs": [
    {
     "data": {
      "image/png": "[encoded data removed]",
      "text/plain": [
       "<Figure size 640x480 with 1 Axes>"
      ]
     },
     "metadata": {},
     "output_type": "display_data"
    }
   ],
   "source": [
    "sns.barplot(x='classification', y='daily_volume_usd', data = merged)\n",
    "plt.title(\"Daily_Volume_USD vs Classification Bar Plot\")\n",
    "plt.show()"
   ]
  },
  {
   "cell_type": "markdown",
   "id": "d372d36e",
   "metadata": {},
   "source": [
    " The plot for `daily_volume_usd` shows a similar pattern. The \"Fear\" category has a bar that is orders of magnitude higher than all the others. This indicates that the day with the most trading activity in terms of total dollar value was also classified as \"Fear.\""
   ]
  },
  {
   "cell_type": "code",
   "execution_count": 133,
   "id": "b60223e0",
   "metadata": {},
   "outputs": [
    {
     "data": {
      "image/png": "[encoded data removed]",
      "text/plain": [
       "<Figure size 640x480 with 1 Axes>"
      ]
     },
     "metadata": {},
     "output_type": "display_data"
    }
   ],
   "source": [
    "sns.barplot(merged, x = 'classification', y = 'daily_trades')\n",
    "plt.title(\"Daily_Trades vs Classification Bar Plot\")\n",
    "plt.show()"
   ]
  },
  {
   "cell_type": "markdown",
   "id": "862a83b1",
   "metadata": {},
   "source": [
    "The bar plot for `daily_trades` follows the same trend. The \"Fear\" category shows a massive number of trades, far exceeding the activity level of the \"Greed\" and \"Neutral\" days."
   ]
  },
  {
   "cell_type": "markdown",
   "id": "966533cc",
   "metadata": {},
   "source": [
    "### **Overall Observation:** \n",
    "All three bar plots clearly show that **Fearful market sentiment is strongly associated with a massive spike in trading activity** (volume and number of trades) and, in this limited sample, the highest daily profitability. The other sentiment categories are clustered together with comparatively low activity and profit."
   ]
  },
  {
   "cell_type": "markdown",
   "id": "48fcec8f",
   "metadata": {},
   "source": [
    "### **Scatter Plots:** (`value` vs. `daily_volume_usd` and `daily_pnl`)\n",
    "These plots help to visualize the continuous relationship and reinforce the correlation findings."
   ]
  },
  {
   "cell_type": "markdown",
   "id": "501a3798",
   "metadata": {},
   "source": [
    "- **`value` vs. `daily_volume_usd`:** This scatter plot would show the data points for Greed, Extreme Greed, and Neutral clustered on the right side of the x-axis (higher sentiment value) at low y-axis values (low volume). The \"Fear\" day would be a clear outlier on the left side of the x-axis (low sentiment value) with a very high y-axis value (high volume). This plot directly visualizes the negative correlation."
   ]
  },
  {
   "cell_type": "code",
   "execution_count": 121,
   "id": "c67a0683",
   "metadata": {},
   "outputs": [
    {
     "data": {
      "image/png": "[encoded data removed]",
      "text/plain": [
       "<Figure size 800x500 with 1 Axes>"
      ]
     },
     "metadata": {},
     "output_type": "display_data"
    }
   ],
   "source": [
    "import seaborn as sns\n",
    "import matplotlib.pyplot as plt\n",
    "%matplotlib inline\n",
    "\n",
    "plt.figure(figsize=(8,5))\n",
    "sns.scatterplot(\n",
    "    data = merged,\n",
    "    x='value',\n",
    "    y='daily_volume_usd',\n",
    "    hue='classification',\n",
    "    s=100\n",
    ")\n",
    "plt.title(\"Sentiment Value vs Daily Volume\")\n",
    "plt.show()"
   ]
  },
  {
   "cell_type": "markdown",
   "id": "20209202",
   "metadata": {},
   "source": [
    "- **`value` vs. `daily_pnl`**: This plot would show a similar pattern, with the high-profit \"Fear\" day sitting far from the rest of the cluster. It would visually confirm that low sentiment (`value`) is associated with the highest total daily profit."
   ]
  },
  {
   "cell_type": "code",
   "execution_count": 122,
   "id": "3ef6def9",
   "metadata": {},
   "outputs": [
    {
     "data": {
      "image/png": "[encoded data removed]",
      "text/plain": [
       "<Figure size 800x500 with 1 Axes>"
      ]
     },
     "metadata": {},
     "output_type": "display_data"
    }
   ],
   "source": [
    "import seaborn as sns\n",
    "import matplotlib.pyplot as plt\n",
    "%matplotlib inline\n",
    "\n",
    "plt.figure(figsize=(8,5))\n",
    "sns.scatterplot(\n",
    "    data = merged,\n",
    "    x='value',\n",
    "    y='daily_pnl',\n",
    "    hue='classification',\n",
    "    s=100\n",
    ")\n",
    "plt.title(\"Sentiment Value vs Daily Volume\")\n",
    "plt.show()"
   ]
  },
  {
   "cell_type": "markdown",
   "id": "a05dcd74",
   "metadata": {},
   "source": [
    "### **Overall Observation**: \n",
    "The scatter plots graphically prove the inverse relationship between sentiment and trading metrics, providing clear evidence that **low sentiment values (Fear) correspond to high trading volume and PnL.**\n",
    "\n"
   ]
  },
  {
   "cell_type": "markdown",
   "id": "db0dc49e",
   "metadata": {},
   "source": [
    "## Step 6: Hidden Signals & Insights\n",
    "The analysis of the plots and correlation matrix reveals a clear signal within the available data. To expand on this, we must re-evaluate our data, as a key trading day (2025-06-15) was excluded from our initial analysis due to the use of an inner join in the previous step.\n",
    "\n",
    "To ensure no trading data is lost, we perform a new merge using a **left join.** This keeps all seven of our trading days, with the unclassified day (2025-06-15) having `NaN` values for its sentiment columns. This allows us to analyze its trading behavior in the context of the other classified days."
   ]
  },
  {
   "cell_type": "code",
   "execution_count": 123,
   "id": "43bcca9e",
   "metadata": {},
   "outputs": [
    {
     "data": {
      "text/html": [
       "<div>\n",
       "<style scoped>\n",
       "    .dataframe tbody tr th:only-of-type {\n",
       "        vertical-align: middle;\n",
       "    }\n",
       "\n",
       "    .dataframe tbody tr th {\n",
       "        vertical-align: top;\n",
       "    }\n",
       "\n",
       "    .dataframe thead th {\n",
       "        text-align: right;\n",
       "    }\n",
       "</style>\n",
       "<table border=\"1\" class=\"dataframe\">\n",
       "  <thead>\n",
       "    <tr style=\"text-align: right;\">\n",
       "      <th></th>\n",
       "      <th>Date</th>\n",
       "      <th>daily_pnl</th>\n",
       "      <th>daily_volume_usd</th>\n",
       "      <th>daily_trades</th>\n",
       "      <th>avg_fee</th>\n",
       "      <th>value</th>\n",
       "      <th>classification</th>\n",
       "    </tr>\n",
       "  </thead>\n",
       "  <tbody>\n",
       "    <tr>\n",
       "      <th>0</th>\n",
       "      <td>2023-03-28</td>\n",
       "      <td>0.000000e+00</td>\n",
       "      <td>4.770000e+02</td>\n",
       "      <td>3</td>\n",
       "      <td>0.000000</td>\n",
       "      <td>59.0</td>\n",
       "      <td>Greed</td>\n",
       "    </tr>\n",
       "    <tr>\n",
       "      <th>1</th>\n",
       "      <td>2023-11-14</td>\n",
       "      <td>1.555034e+02</td>\n",
       "      <td>1.155543e+07</td>\n",
       "      <td>1045</td>\n",
       "      <td>2.674230</td>\n",
       "      <td>69.0</td>\n",
       "      <td>Greed</td>\n",
       "    </tr>\n",
       "    <tr>\n",
       "      <th>2</th>\n",
       "      <td>2024-03-09</td>\n",
       "      <td>1.769655e+05</td>\n",
       "      <td>3.940677e+07</td>\n",
       "      <td>6962</td>\n",
       "      <td>0.978567</td>\n",
       "      <td>84.0</td>\n",
       "      <td>Extreme Greed</td>\n",
       "    </tr>\n",
       "    <tr>\n",
       "      <th>3</th>\n",
       "      <td>2024-07-03</td>\n",
       "      <td>1.587424e+05</td>\n",
       "      <td>2.184323e+07</td>\n",
       "      <td>7141</td>\n",
       "      <td>1.224461</td>\n",
       "      <td>50.0</td>\n",
       "      <td>Neutral</td>\n",
       "    </tr>\n",
       "    <tr>\n",
       "      <th>4</th>\n",
       "      <td>2024-10-27</td>\n",
       "      <td>3.189461e+06</td>\n",
       "      <td>1.039478e+08</td>\n",
       "      <td>35241</td>\n",
       "      <td>0.611205</td>\n",
       "      <td>74.0</td>\n",
       "      <td>Greed</td>\n",
       "    </tr>\n",
       "    <tr>\n",
       "      <th>5</th>\n",
       "      <td>2025-02-19</td>\n",
       "      <td>6.699925e+06</td>\n",
       "      <td>7.041585e+08</td>\n",
       "      <td>133871</td>\n",
       "      <td>1.083267</td>\n",
       "      <td>44.0</td>\n",
       "      <td>Fear</td>\n",
       "    </tr>\n",
       "    <tr>\n",
       "      <th>6</th>\n",
       "      <td>2025-06-15</td>\n",
       "      <td>7.170935e+04</td>\n",
       "      <td>3.102753e+08</td>\n",
       "      <td>26961</td>\n",
       "      <td>2.260635</td>\n",
       "      <td>NaN</td>\n",
       "      <td>NaN</td>\n",
       "    </tr>\n",
       "  </tbody>\n",
       "</table>\n",
       "</div>"
      ],
      "text/plain": [
       "        Date     daily_pnl  daily_volume_usd  daily_trades   avg_fee  value  \\\n",
       "0 2023-03-28  0.000000e+00      4.770000e+02             3  0.000000   59.0   \n",
       "1 2023-11-14  1.555034e+02      1.155543e+07          1045  2.674230   69.0   \n",
       "2 2024-03-09  1.769655e+05      3.940677e+07          6962  0.978567   84.0   \n",
       "3 2024-07-03  1.587424e+05      2.184323e+07          7141  1.224461   50.0   \n",
       "4 2024-10-27  3.189461e+06      1.039478e+08         35241  0.611205   74.0   \n",
       "5 2025-02-19  6.699925e+06      7.041585e+08        133871  1.083267   44.0   \n",
       "6 2025-06-15  7.170935e+04      3.102753e+08         26961  2.260635    NaN   \n",
       "\n",
       "  classification  \n",
       "0          Greed  \n",
       "1          Greed  \n",
       "2  Extreme Greed  \n",
       "3        Neutral  \n",
       "4          Greed  \n",
       "5           Fear  \n",
       "6            NaN  "
      ]
     },
     "execution_count": 123,
     "metadata": {},
     "output_type": "execute_result"
    }
   ],
   "source": [
    "# Re-do the merge using a left join to keep all trading days\n",
    "merged = pd.merge(\n",
    "    daily_stats,\n",
    "    fear_greed_index_data[['date', 'value', 'classification']],\n",
    "    left_on='Date',\n",
    "    right_on='date',\n",
    "    how='left'\n",
    ").drop(columns=['date'])\n",
    "\n",
    "merged"
   ]
  },
  {
   "cell_type": "code",
   "execution_count": 124,
   "id": "ad88c3d0",
   "metadata": {},
   "outputs": [
    {
     "name": "stdout",
     "output_type": "stream",
     "text": [
      "Average stats by sentiment classification: \n",
      "                   daily_pnl  daily_volume_usd   daily_trades\n",
      "classification                                               \n",
      "Extreme Greed   1.769655e+05      3.940677e+07    6962.000000\n",
      "Fear            6.699925e+06      7.041585e+08  133871.000000\n",
      "Greed           1.063206e+06      3.850122e+07   12096.333333\n",
      "Neutral         1.587424e+05      2.184323e+07    7141.000000\n"
     ]
    }
   ],
   "source": [
    "group_mean = merged.groupby('classification')[['daily_pnl', 'daily_volume_usd', 'daily_trades']].mean()\n",
    "print(\"Average stats by sentiment classification: \")\n",
    "print(group_mean)"
   ]
  },
  {
   "cell_type": "code",
   "execution_count": 125,
   "id": "0cc5b4d2",
   "metadata": {},
   "outputs": [
    {
     "name": "stdout",
     "output_type": "stream",
     "text": [
      "Correlation Matrix:\n",
      "                  daily_pnl  daily_volume_usd  daily_trades   avg_fee  \\\n",
      "daily_pnl          1.000000          0.830236      0.952702 -0.227487   \n",
      "daily_volume_usd   0.830236          1.000000      0.956389  0.084257   \n",
      "daily_trades       0.952702          0.956389      1.000000 -0.078223   \n",
      "avg_fee           -0.227487          0.084257     -0.078223  1.000000   \n",
      "value             -0.452662         -0.572090     -0.547081  0.068800   \n",
      "\n",
      "                     value  \n",
      "daily_pnl        -0.452662  \n",
      "daily_volume_usd -0.572090  \n",
      "daily_trades     -0.547081  \n",
      "avg_fee           0.068800  \n",
      "value             1.000000  \n"
     ]
    }
   ],
   "source": [
    "corr_matrix = merged[['daily_pnl','daily_volume_usd','daily_trades','avg_fee','value']].corr()\n",
    "print(\"Correlation Matrix:\")\n",
    "print(corr_matrix)"
   ]
  },
  {
   "cell_type": "code",
   "execution_count": 126,
   "id": "910c3d26",
   "metadata": {},
   "outputs": [
    {
     "name": "stdout",
     "output_type": "stream",
     "text": [
      "Max By column:\n",
      "daily_pnl           Fear\n",
      "daily_volume_usd    Fear\n",
      "daily_trades        Fear\n",
      "dtype: object\n"
     ]
    }
   ],
   "source": [
    "print(\"Max By column:\")\n",
    "print(group_mean.idxmax())"
   ]
  },
  {
   "cell_type": "markdown",
   "id": "58b4fdee",
   "metadata": {},
   "source": [
    "This visualization helps to place the unclassified day (`2025-06-15`) in context. By plotting `Daily Volume` vs. `Number of Trades` for all days, we can see that this day's activity level is significantly higher than that of the \"calm\" cluster (Greed, Extreme Greed, and Neutral), but it's not as extreme as the single \"Fear\" day."
   ]
  },
  {
   "cell_type": "code",
   "execution_count": 129,
   "id": "3dfe4967",
   "metadata": {},
   "outputs": [
    {
     "data": {
      "image/png": "[encoded data removed]",
      "text/plain": [
       "<Figure size 1000x600 with 1 Axes>"
      ]
     },
     "metadata": {},
     "output_type": "display_data"
    }
   ],
   "source": [
    "plt.figure(figsize=(10, 6))\n",
    "\n",
    "# Plot the days with a known classification\n",
    "sns.scatterplot(\n",
    "    data=merged.dropna(subset=['classification']),\n",
    "    x='daily_trades',\n",
    "    y='daily_volume_usd',\n",
    "    hue='classification',\n",
    "    s=150,\n",
    "    style='classification',\n",
    "    palette='deep',\n",
    ")\n",
    "\n",
    "orphan_day = merged[merged['classification'].isnull()]\n",
    "plt.scatter(\n",
    "    orphan_day['daily_trades'],\n",
    "    orphan_day['daily_volume_usd'],\n",
    "    marker='x',\n",
    "    s=250,\n",
    "    color='red',\n",
    "    label='Unclassified Day (2025-06-15)'\n",
    ")\n",
    "\n",
    "plt.title('Trading Volume vs. Number of Trades by Sentiment')\n",
    "plt.xlabel('Number of Trades')\n",
    "plt.ylabel('Daily Volume (USD)')\n",
    "plt.legend()\n",
    "plt.grid(True)\n",
    "plt.show()"
   ]
  },
  {
   "cell_type": "markdown",
   "id": "71819367",
   "metadata": {},
   "source": [
    "- **The Fear-Activity Signal:** In our sample, **Fear days are associated with a massive increase in trading activity,** including a much higher number of trades and total volume. This is also the day with the highest total profit (`daily_pnl`). This suggests that market fear, possibly driven by panic selling or opportunistic buying, leads to an intensification of trading behavior.\n",
    "\n",
    "- **The Greed-Calm Signal:** Conversely, Greed, Extreme Greed, and Neutral days show a relatively low and consistent level of trading activity. This suggests that during periods of confidence or indifference, the market is much calmer.\n",
    "\n",
    "- **The Unclassified Anomaly:** The orphan day of `2025-06-15` presents a unique profile: high volume and a moderate number of trades, but a much lower PnL compared to the other high-activity Fear day. This data point is a good example of a hidden pattern that may require further investigation with more data to determine its true classification.\n",
    "\n",
    "### **Final Summary:**\n",
    "The data suggests a potential contrarian signal: periods of market fear may be the most dynamic and profitable for traders, while greedy periods are associated with a more passive trading environment. This insight could be a valuable starting point for building a smarter trading strategy."
   ]
  }
 ],
 "metadata": {
  "kernelspec": {
   "display_name": "Python 3",
   "language": "python",
   "name": "python3"
  },
  "language_info": {
   "codemirror_mode": {
    "name": "ipython",
    "version": 3
   },
   "file_extension": ".py",
   "mimetype": "text/x-python",
   "name": "python",
   "nbconvert_exporter": "python",
   "pygments_lexer": "ipython3",
   "version": "3.11.1"
  }
 },
 "nbformat": 4,
 "nbformat_minor": 5
}
